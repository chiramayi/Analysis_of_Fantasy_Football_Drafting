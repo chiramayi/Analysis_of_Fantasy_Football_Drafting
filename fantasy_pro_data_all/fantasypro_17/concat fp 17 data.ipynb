{
 "cells": [
  {
   "cell_type": "code",
   "execution_count": 8,
   "metadata": {},
   "outputs": [],
   "source": [
    "import pandas as pd\n",
    "import matplotlib.pyplot as plt\n",
    "import seaborn as sns\n",
    "\n",
    "%matplotlib inline"
   ]
  },
  {
   "cell_type": "code",
   "execution_count": 9,
   "metadata": {},
   "outputs": [],
   "source": [
    "rb_17 = pd.read_csv('FantasyPros_Fantasy_Football_Statistics_RB.csv')\n",
    "wr_17 = pd.read_csv('FantasyPros_Fantasy_Football_Statistics_WR.csv')\n",
    "qb_17 = pd.read_csv('FantasyPros_Fantasy_Football_Statistics_QB.csv')\n",
    "te_17 = pd.read_csv('FantasyPros_Fantasy_Football_Statistics_TE.csv')\n",
    "k_17 = pd.read_csv('FantasyPros_Fantasy_Football_Statistics_K.csv')"
   ]
  },
  {
   "cell_type": "code",
   "execution_count": 10,
   "metadata": {},
   "outputs": [],
   "source": [
    "concat_17 = pd.concat([rb_17, wr_17, te_17, k_17, qb_17])"
   ]
  },
  {
   "cell_type": "code",
   "execution_count": 11,
   "metadata": {},
   "outputs": [
    {
     "data": {
      "text/plain": [
       "(1334, 33)"
      ]
     },
     "execution_count": 11,
     "metadata": {},
     "output_type": "execute_result"
    }
   ],
   "source": [
    "concat_17['FantasyPointsRank'] = concat_17['FPTS'].rank(ascending = False)\n",
    "concat_17 = concat_17.sort_values(by = 'FantasyPointsRank')\n",
    "concat_17.shape"
   ]
  },
  {
   "cell_type": "code",
   "execution_count": 12,
   "metadata": {},
   "outputs": [],
   "source": [
    "concat_17.to_csv('fp_data_uncleaned.csv', index = False)"
   ]
  },
  {
   "cell_type": "code",
   "execution_count": null,
   "metadata": {},
   "outputs": [],
   "source": []
  },
  {
   "cell_type": "code",
   "execution_count": null,
   "metadata": {},
   "outputs": [],
   "source": []
  },
  {
   "cell_type": "code",
   "execution_count": null,
   "metadata": {},
   "outputs": [],
   "source": []
  }
 ],
 "metadata": {
  "kernelspec": {
   "display_name": "Python 3",
   "language": "python",
   "name": "python3"
  },
  "language_info": {
   "codemirror_mode": {
    "name": "ipython",
    "version": 3
   },
   "file_extension": ".py",
   "mimetype": "text/x-python",
   "name": "python",
   "nbconvert_exporter": "python",
   "pygments_lexer": "ipython3",
   "version": "3.8.3"
  }
 },
 "nbformat": 4,
 "nbformat_minor": 4
}
