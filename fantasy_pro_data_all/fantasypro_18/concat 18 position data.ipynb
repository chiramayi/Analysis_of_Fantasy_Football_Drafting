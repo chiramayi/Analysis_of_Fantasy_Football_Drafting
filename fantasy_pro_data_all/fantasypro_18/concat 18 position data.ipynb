{
 "cells": [
  {
   "cell_type": "code",
   "execution_count": 6,
   "metadata": {},
   "outputs": [],
   "source": [
    "import pandas as pd\n",
    "import matplotlib.pyplot as plt\n",
    "import seaborn as sns\n",
    "\n",
    "%matplotlib inline"
   ]
  },
  {
   "cell_type": "code",
   "execution_count": 7,
   "metadata": {},
   "outputs": [],
   "source": [
    "rb_18 = pd.read_csv('FantasyPros_Fantasy_Football_Statistics_RB_18.csv')\n",
    "wr_18 = pd.read_csv('FantasyPros_Fantasy_Football_Statistics_WR_18.csv')\n",
    "qb_18 = pd.read_csv('FantasyPros_Fantasy_Football_Statistics_QB_18.csv')\n",
    "te_18 = pd.read_csv('FantasyPros_Fantasy_Football_Statistics_TE_18.csv')\n",
    "k_18 = pd.read_csv('FantasyPros_Fantasy_Football_Statistics_K_18.csv')\n",
    "def_18 = pd.read_csv('FantasyPros_Fantasy_Football_Statistics_DST_18.csv')"
   ]
  },
  {
   "cell_type": "code",
   "execution_count": 8,
   "metadata": {},
   "outputs": [],
   "source": [
    "concat_18 = pd.concat([rb_18, wr_18, te_18, k_18, qb_18, def_18])"
   ]
  },
  {
   "cell_type": "code",
   "execution_count": 9,
   "metadata": {},
   "outputs": [
    {
     "data": {
      "text/plain": [
       "(1277, 39)"
      ]
     },
     "execution_count": 9,
     "metadata": {},
     "output_type": "execute_result"
    }
   ],
   "source": [
    "concat_18['FantasyPointsRank'] = concat_18['FPTS'].rank(ascending = False)\n",
    "concat_18 = concat_18.sort_values(by = 'FantasyPointsRank')\n",
    "concat_18.shape"
   ]
  },
  {
   "cell_type": "code",
   "execution_count": 10,
   "metadata": {},
   "outputs": [],
   "source": [
    "concat_18.to_csv('fp_data_uncleaned.csv', index = False)"
   ]
  },
  {
   "cell_type": "code",
   "execution_count": null,
   "metadata": {},
   "outputs": [],
   "source": []
  },
  {
   "cell_type": "code",
   "execution_count": null,
   "metadata": {},
   "outputs": [],
   "source": []
  },
  {
   "cell_type": "code",
   "execution_count": null,
   "metadata": {},
   "outputs": [],
   "source": []
  },
  {
   "cell_type": "code",
   "execution_count": null,
   "metadata": {},
   "outputs": [],
   "source": []
  },
  {
   "cell_type": "code",
   "execution_count": null,
   "metadata": {},
   "outputs": [],
   "source": []
  }
 ],
 "metadata": {
  "kernelspec": {
   "display_name": "Python 3",
   "language": "python",
   "name": "python3"
  },
  "language_info": {
   "codemirror_mode": {
    "name": "ipython",
    "version": 3
   },
   "file_extension": ".py",
   "mimetype": "text/x-python",
   "name": "python",
   "nbconvert_exporter": "python",
   "pygments_lexer": "ipython3",
   "version": "3.8.3"
  }
 },
 "nbformat": 4,
 "nbformat_minor": 4
}
