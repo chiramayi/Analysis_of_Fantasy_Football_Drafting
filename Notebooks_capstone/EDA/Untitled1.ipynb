{
 "cells": [
  {
   "cell_type": "code",
   "execution_count": 1,
   "metadata": {},
   "outputs": [],
   "source": [
    "import pandas as pd\n",
    "from matplotlib import pyplot as plt"
   ]
  },
  {
   "cell_type": "code",
   "execution_count": 4,
   "metadata": {},
   "outputs": [],
   "source": [
    "data_2019 = pd.read_csv('2019_cleaned_with_rounds.csv')"
   ]
  },
  {
   "cell_type": "code",
   "execution_count": 12,
   "metadata": {},
   "outputs": [],
   "source": [
    "data_2019 = data_2019.head(48)"
   ]
  },
  {
   "cell_type": "code",
   "execution_count": 13,
   "metadata": {},
   "outputs": [
    {
     "data": {
      "text/html": [
       "<div>\n",
       "<style scoped>\n",
       "    .dataframe tbody tr th:only-of-type {\n",
       "        vertical-align: middle;\n",
       "    }\n",
       "\n",
       "    .dataframe tbody tr th {\n",
       "        vertical-align: top;\n",
       "    }\n",
       "\n",
       "    .dataframe thead th {\n",
       "        text-align: right;\n",
       "    }\n",
       "</style>\n",
       "<table border=\"1\" class=\"dataframe\">\n",
       "  <thead>\n",
       "    <tr style=\"text-align: right;\">\n",
       "      <th></th>\n",
       "      <th>Rank_x</th>\n",
       "      <th>Player_x</th>\n",
       "      <th>Unnamed: 2</th>\n",
       "      <th>Player_Name</th>\n",
       "      <th>Round</th>\n",
       "      <th>Min Pick</th>\n",
       "      <th>Max Pick</th>\n",
       "      <th>% Selected</th>\n",
       "      <th>Position</th>\n",
       "      <th>Team</th>\n",
       "      <th>...</th>\n",
       "      <th>INT</th>\n",
       "      <th>SACKS</th>\n",
       "      <th>ATT.1</th>\n",
       "      <th>SACK</th>\n",
       "      <th>FR</th>\n",
       "      <th>FF</th>\n",
       "      <th>DEF TD</th>\n",
       "      <th>SFTY</th>\n",
       "      <th>SPC TD</th>\n",
       "      <th>FantasyPointsRank</th>\n",
       "    </tr>\n",
       "  </thead>\n",
       "  <tbody>\n",
       "    <tr>\n",
       "      <th>0</th>\n",
       "      <td>1</td>\n",
       "      <td>Barkley</td>\n",
       "      <td>Saquon</td>\n",
       "      <td>Saquon Barkley</td>\n",
       "      <td>1</td>\n",
       "      <td>1</td>\n",
       "      <td>369</td>\n",
       "      <td>56</td>\n",
       "      <td>RB</td>\n",
       "      <td>NYG</td>\n",
       "      <td>...</td>\n",
       "      <td>NaN</td>\n",
       "      <td>NaN</td>\n",
       "      <td>NaN</td>\n",
       "      <td>NaN</td>\n",
       "      <td>NaN</td>\n",
       "      <td>NaN</td>\n",
       "      <td>NaN</td>\n",
       "      <td>NaN</td>\n",
       "      <td>NaN</td>\n",
       "      <td>39.0</td>\n",
       "    </tr>\n",
       "    <tr>\n",
       "      <th>1</th>\n",
       "      <td>2</td>\n",
       "      <td>McCaffrey</td>\n",
       "      <td>Christian</td>\n",
       "      <td>Christian McCaffrey</td>\n",
       "      <td>1</td>\n",
       "      <td>1</td>\n",
       "      <td>205</td>\n",
       "      <td>57</td>\n",
       "      <td>RB</td>\n",
       "      <td>CAR</td>\n",
       "      <td>...</td>\n",
       "      <td>NaN</td>\n",
       "      <td>NaN</td>\n",
       "      <td>NaN</td>\n",
       "      <td>NaN</td>\n",
       "      <td>NaN</td>\n",
       "      <td>NaN</td>\n",
       "      <td>NaN</td>\n",
       "      <td>NaN</td>\n",
       "      <td>NaN</td>\n",
       "      <td>2.0</td>\n",
       "    </tr>\n",
       "    <tr>\n",
       "      <th>2</th>\n",
       "      <td>3</td>\n",
       "      <td>Kamara</td>\n",
       "      <td>Alvin</td>\n",
       "      <td>Alvin Kamara</td>\n",
       "      <td>1</td>\n",
       "      <td>1</td>\n",
       "      <td>249</td>\n",
       "      <td>54</td>\n",
       "      <td>RB</td>\n",
       "      <td>NOS</td>\n",
       "      <td>...</td>\n",
       "      <td>NaN</td>\n",
       "      <td>NaN</td>\n",
       "      <td>NaN</td>\n",
       "      <td>NaN</td>\n",
       "      <td>NaN</td>\n",
       "      <td>NaN</td>\n",
       "      <td>NaN</td>\n",
       "      <td>NaN</td>\n",
       "      <td>NaN</td>\n",
       "      <td>47.0</td>\n",
       "    </tr>\n",
       "    <tr>\n",
       "      <th>3</th>\n",
       "      <td>4</td>\n",
       "      <td>Elliott</td>\n",
       "      <td>Ezekiel</td>\n",
       "      <td>Ezekiel Elliott</td>\n",
       "      <td>1</td>\n",
       "      <td>1</td>\n",
       "      <td>201</td>\n",
       "      <td>57</td>\n",
       "      <td>RB</td>\n",
       "      <td>DAL</td>\n",
       "      <td>...</td>\n",
       "      <td>NaN</td>\n",
       "      <td>NaN</td>\n",
       "      <td>NaN</td>\n",
       "      <td>NaN</td>\n",
       "      <td>NaN</td>\n",
       "      <td>NaN</td>\n",
       "      <td>NaN</td>\n",
       "      <td>NaN</td>\n",
       "      <td>NaN</td>\n",
       "      <td>13.0</td>\n",
       "    </tr>\n",
       "    <tr>\n",
       "      <th>4</th>\n",
       "      <td>5</td>\n",
       "      <td>Hopkins</td>\n",
       "      <td>DeAndre</td>\n",
       "      <td>DeAndre Hopkins</td>\n",
       "      <td>1</td>\n",
       "      <td>1</td>\n",
       "      <td>210</td>\n",
       "      <td>58</td>\n",
       "      <td>WR</td>\n",
       "      <td>HOU</td>\n",
       "      <td>...</td>\n",
       "      <td>NaN</td>\n",
       "      <td>NaN</td>\n",
       "      <td>NaN</td>\n",
       "      <td>NaN</td>\n",
       "      <td>NaN</td>\n",
       "      <td>NaN</td>\n",
       "      <td>NaN</td>\n",
       "      <td>NaN</td>\n",
       "      <td>NaN</td>\n",
       "      <td>40.0</td>\n",
       "    </tr>\n",
       "  </tbody>\n",
       "</table>\n",
       "<p>5 rows × 50 columns</p>\n",
       "</div>"
      ],
      "text/plain": [
       "   Rank_x   Player_x Unnamed: 2          Player_Name  Round  Min Pick  \\\n",
       "0       1    Barkley     Saquon       Saquon Barkley      1         1   \n",
       "1       2  McCaffrey  Christian  Christian McCaffrey      1         1   \n",
       "2       3     Kamara      Alvin         Alvin Kamara      1         1   \n",
       "3       4    Elliott    Ezekiel      Ezekiel Elliott      1         1   \n",
       "4       5    Hopkins    DeAndre      DeAndre Hopkins      1         1   \n",
       "\n",
       "   Max Pick  % Selected Position Team  ...  INT  SACKS ATT.1  SACK  FR  FF  \\\n",
       "0       369          56       RB  NYG  ...  NaN    NaN   NaN   NaN NaN NaN   \n",
       "1       205          57       RB  CAR  ...  NaN    NaN   NaN   NaN NaN NaN   \n",
       "2       249          54       RB  NOS  ...  NaN    NaN   NaN   NaN NaN NaN   \n",
       "3       201          57       RB  DAL  ...  NaN    NaN   NaN   NaN NaN NaN   \n",
       "4       210          58       WR  HOU  ...  NaN    NaN   NaN   NaN NaN NaN   \n",
       "\n",
       "   DEF TD  SFTY  SPC TD  FantasyPointsRank  \n",
       "0     NaN   NaN     NaN               39.0  \n",
       "1     NaN   NaN     NaN                2.0  \n",
       "2     NaN   NaN     NaN               47.0  \n",
       "3     NaN   NaN     NaN               13.0  \n",
       "4     NaN   NaN     NaN               40.0  \n",
       "\n",
       "[5 rows x 50 columns]"
      ]
     },
     "execution_count": 13,
     "metadata": {},
     "output_type": "execute_result"
    }
   ],
   "source": [
    "data_2019.head(5)"
   ]
  },
  {
   "cell_type": "code",
   "execution_count": 14,
   "metadata": {},
   "outputs": [
    {
     "data": {
      "text/plain": [
       "<matplotlib.axes._subplots.AxesSubplot at 0x7fd216a5fb80>"
      ]
     },
     "execution_count": 14,
     "metadata": {},
     "output_type": "execute_result"
    },
    {
     "data": {
      "image/png": "[encoded data removed]",
      "text/plain": [
       "<Figure size 432x288 with 1 Axes>"
      ]
     },
     "metadata": {},
     "output_type": "display_data"
    }
   ],
   "source": [
    "plt.style.use('ggplot')\n",
    "data_2019.plot(x = 'Position', y='Rank_x', kind = 'scatter')"
   ]
  },
  {
   "cell_type": "code",
   "execution_count": null,
   "metadata": {},
   "outputs": [],
   "source": []
  },
  {
   "cell_type": "code",
   "execution_count": null,
   "metadata": {},
   "outputs": [],
   "source": []
  },
  {
   "cell_type": "code",
   "execution_count": null,
   "metadata": {},
   "outputs": [],
   "source": []
  },
  {
   "cell_type": "code",
   "execution_count": null,
   "metadata": {},
   "outputs": [],
   "source": []
  },
  {
   "cell_type": "code",
   "execution_count": null,
   "metadata": {},
   "outputs": [],
   "source": []
  }
 ],
 "metadata": {
  "kernelspec": {
   "display_name": "Python 3",
   "language": "python",
   "name": "python3"
  },
  "language_info": {
   "codemirror_mode": {
    "name": "ipython",
    "version": 3
   },
   "file_extension": ".py",
   "mimetype": "text/x-python",
   "name": "python",
   "nbconvert_exporter": "python",
   "pygments_lexer": "ipython3",
   "version": "3.8.3"
  }
 },
 "nbformat": 4,
 "nbformat_minor": 4
}
